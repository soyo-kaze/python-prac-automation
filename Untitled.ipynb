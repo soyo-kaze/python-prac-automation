{
 "cells": [
  {
   "cell_type": "markdown",
   "metadata": {},
   "source": [
    "# Some practice"
   ]
  },
  {
   "cell_type": "code",
   "execution_count": 3,
   "metadata": {},
   "outputs": [
    {
     "name": "stdout",
     "output_type": "stream",
     "text": [
      "8.5\n",
      "2.4285714285714284\n",
      "Error: Denominator can't be zero. Invalid expression\n",
      "None\n",
      "0.7906976744186046\n"
     ]
    }
   ],
   "source": [
    "# error handling\n",
    "def divideByZero(x):\n",
    "    try:\n",
    "        return 34/x\n",
    "    except ZeroDivisionError:\n",
    "        print(\"Error: Denominator can't be zero. Invalid expression\")\n",
    "print(divideByZero(4))\n",
    "print(divideByZero(14))\n",
    "print(divideByZero(0))\n",
    "print(divideByZero(43))"
   ]
  },
  {
   "cell_type": "code",
   "execution_count": 4,
   "metadata": {},
   "outputs": [],
   "source": [
    "x = [3,4,5,6]\n",
    "del x[2]"
   ]
  },
  {
   "cell_type": "code",
   "execution_count": 13,
   "metadata": {},
   "outputs": [],
   "source": [
    "c=x"
   ]
  },
  {
   "cell_type": "markdown",
   "metadata": {},
   "source": [
    "## Tic-Tac-Toe"
   ]
  },
  {
   "cell_type": "code",
   "execution_count": 1,
   "metadata": {},
   "outputs": [
    {
     "name": "stdout",
     "output_type": "stream",
     "text": [
      " | | \n",
      "-+-+-\n",
      " | | \n",
      "-+-+-\n",
      " | | \n"
     ]
    }
   ],
   "source": [
    "theBoard = {\"t-l\":\" \",\"t-m\":\" \",\"t-r\":\" \",\n",
    "            \"m-l\":\" \",\"m-m\":\" \",\"m-r\":\" \",\n",
    "            \"b-l\":\" \",\"b-m\":\" \",\"b-r\":\" \",}\n",
    "\n",
    "theCheck = {\"t-l\":[1,1],\"t-m\":[1,2],\"t-r\":[1,3],\n",
    "            \"m-l\":[2,1],\"m-m\":[2,2],\"m-r\":[2,3],\n",
    "            \"b-l\":[3,1],\"b-m\":[3,2],\"b-r\":[3,3],}\n",
    "\n",
    "\n",
    "import sys\n",
    "\n",
    "def ticBoard (board):\n",
    "    print(board[\"t-l\"]+\"|\"+board[\"t-m\"]+\"|\"+board[\"t-r\"])\n",
    "    print(\"-+-+-\")\n",
    "    print(board[\"m-l\"]+\"|\"+board[\"m-m\"]+\"|\"+board[\"m-r\"])\n",
    "    print(\"-+-+-\")\n",
    "    print(board[\"b-l\"]+\"|\"+board[\"b-m\"]+\"|\"+board[\"b-r\"])\n",
    "\n",
    "ticBoard(theBoard)"
   ]
  },
  {
   "cell_type": "code",
   "execution_count": 2,
   "metadata": {},
   "outputs": [],
   "source": [
    "def logic(theBoard,ticBoard,played,theCheck,xColumn,xRow,oColumn,oRow):\n",
    "    Turn = \"X\"\n",
    "    print(\"Welcome to Tic-Tac-Toe\")\n",
    "    for x in range(9):\n",
    "        ticBoard(theBoard)\n",
    "        while(True):\n",
    "            print(\"Player '{}'. Move where?\".format(Turn))\n",
    "            move = input()\n",
    "            if move == \"exit\":\n",
    "                sys.exit(0)\n",
    "            if (move not in theBoard.keys()):\n",
    "                print(\"Please type it correctly!!\")\n",
    "                continue\n",
    "            else:\n",
    "                if move in played:\n",
    "                    print(\"Already occupied!!\")\n",
    "                    continue\n",
    "                else:\n",
    "                    break\n",
    "        theBoard[move] = Turn\n",
    "        played.append(move)\n",
    "        if Turn == \"X\":\n",
    "            xColumn.append(theCheck[move][1])\n",
    "            xRow.append(theCheck[move][0])\n",
    "            if (                                           \n",
    "                xColumn.count(theCheck[move][1]) == 3 \n",
    "                or xRow.count(theCheck[move][0]) == 3 \n",
    "                or {1,2,3}==set(set(xColumn).intersection(xRow)).intersection([1,2,3])\n",
    "            ):\n",
    "                #used set and intersection\n",
    "                print(\"Player X Wins!!\")\n",
    "                break\n",
    "            Turn = \"O\"\n",
    "        else:\n",
    "            oColumn.append(theCheck[move][1])\n",
    "            oRow.append(theCheck[move][0])\n",
    "            if (\n",
    "                oColumn.count(theCheck[move][1]) == 3 \n",
    "                or oRow.count(theCheck[move][0]) == 3 \n",
    "                or {1,2,3}==set(set(oColumn).intersection(oRow)).intersection([1,2,3])\n",
    "            ):\n",
    "                #used set and intersection\n",
    "                print(\"Player O Wins!!\")\n",
    "                break\n",
    "            Turn = \"X\"\n",
    "    ticBoard(theBoard)"
   ]
  },
  {
   "cell_type": "code",
   "execution_count": 3,
   "metadata": {},
   "outputs": [
    {
     "name": "stdout",
     "output_type": "stream",
     "text": [
      "Welcome to Tic-Tac-Toe\n",
      " | | \n",
      "-+-+-\n",
      " | | \n",
      "-+-+-\n",
      " | | \n",
      "Player 'X'. Move where?\n"
     ]
    },
    {
     "name": "stdin",
     "output_type": "stream",
     "text": [
      " t-l\n"
     ]
    },
    {
     "name": "stdout",
     "output_type": "stream",
     "text": [
      "X| | \n",
      "-+-+-\n",
      " | | \n",
      "-+-+-\n",
      " | | \n",
      "Player 'O'. Move where?\n"
     ]
    },
    {
     "name": "stdin",
     "output_type": "stream",
     "text": [
      " t-m\n"
     ]
    },
    {
     "name": "stdout",
     "output_type": "stream",
     "text": [
      "X|O| \n",
      "-+-+-\n",
      " | | \n",
      "-+-+-\n",
      " | | \n",
      "Player 'X'. Move where?\n"
     ]
    },
    {
     "name": "stdin",
     "output_type": "stream",
     "text": [
      " m-m\n"
     ]
    },
    {
     "name": "stdout",
     "output_type": "stream",
     "text": [
      "X|O| \n",
      "-+-+-\n",
      " |X| \n",
      "-+-+-\n",
      " | | \n",
      "Player 'O'. Move where?\n"
     ]
    },
    {
     "name": "stdin",
     "output_type": "stream",
     "text": [
      " t-l\n"
     ]
    },
    {
     "name": "stdout",
     "output_type": "stream",
     "text": [
      "Already occupied!!\n",
      "Player 'O'. Move where?\n"
     ]
    },
    {
     "name": "stdin",
     "output_type": "stream",
     "text": [
      " t-ll\n"
     ]
    },
    {
     "name": "stdout",
     "output_type": "stream",
     "text": [
      "Please type it correctly!!\n",
      "Player 'O'. Move where?\n"
     ]
    },
    {
     "name": "stdin",
     "output_type": "stream",
     "text": [
      " t-r\n"
     ]
    },
    {
     "name": "stdout",
     "output_type": "stream",
     "text": [
      "X|O|O\n",
      "-+-+-\n",
      " |X| \n",
      "-+-+-\n",
      " | | \n",
      "Player 'X'. Move where?\n"
     ]
    },
    {
     "name": "stdin",
     "output_type": "stream",
     "text": [
      " b-l\n"
     ]
    },
    {
     "name": "stdout",
     "output_type": "stream",
     "text": [
      "X|O|O\n",
      "-+-+-\n",
      " |X| \n",
      "-+-+-\n",
      "X| | \n",
      "Player 'O'. Move where?\n"
     ]
    },
    {
     "name": "stdin",
     "output_type": "stream",
     "text": [
      " m-r\n"
     ]
    },
    {
     "name": "stdout",
     "output_type": "stream",
     "text": [
      "X|O|O\n",
      "-+-+-\n",
      " |X|O\n",
      "-+-+-\n",
      "X| | \n",
      "Player 'X'. Move where?\n"
     ]
    },
    {
     "name": "stdin",
     "output_type": "stream",
     "text": [
      " b-r\n"
     ]
    },
    {
     "name": "stdout",
     "output_type": "stream",
     "text": [
      "Player X Wins!!\n",
      "X|O|O\n",
      "-+-+-\n",
      " |X|O\n",
      "-+-+-\n",
      "X| |X\n"
     ]
    }
   ],
   "source": [
    "played = []\n",
    "xColumn = []\n",
    "xRow= []\n",
    "oColumn= []\n",
    "oRow= []\n",
    "\n",
    "theBoard = {\"t-l\":\" \",\"t-m\":\" \",\"t-r\":\" \",\n",
    "            \"m-l\":\" \",\"m-m\":\" \",\"m-r\":\" \",\n",
    "            \"b-l\":\" \",\"b-m\":\" \",\"b-r\":\" \",}\n",
    "\n",
    "            \n",
    "            \n",
    "logic(theBoard,ticBoard,played,theCheck,xColumn,xRow,oColumn,oRow)"
   ]
  },
  {
   "cell_type": "code",
   "execution_count": 3,
   "metadata": {},
   "outputs": [
    {
     "data": {
      "text/plain": [
       "True"
      ]
     },
     "execution_count": 3,
     "metadata": {},
     "output_type": "execute_result"
    }
   ],
   "source": [
    "1 and 2 and 3 in [1,3,4]"
   ]
  },
  {
   "cell_type": "code",
   "execution_count": 12,
   "metadata": {},
   "outputs": [
    {
     "data": {
      "text/plain": [
       "{1, 2, 3}"
      ]
     },
     "execution_count": 12,
     "metadata": {},
     "output_type": "execute_result"
    }
   ],
   "source": [
    "set([1,3,3,5,2,3]or[1,2,4]).intersection([1,2,3])"
   ]
  },
  {
   "cell_type": "code",
   "execution_count": 14,
   "metadata": {},
   "outputs": [
    {
     "ename": "NameError",
     "evalue": "name 'lst1' is not defined",
     "output_type": "error",
     "traceback": [
      "\u001b[1;31m---------------------------------------------------------------------------\u001b[0m",
      "\u001b[1;31mNameError\u001b[0m                                 Traceback (most recent call last)",
      "\u001b[1;32m<ipython-input-14-58127459a8ba>\u001b[0m in \u001b[0;36m<module>\u001b[1;34m\u001b[0m\n\u001b[1;32m----> 1\u001b[1;33m \u001b[0mset\u001b[0m\u001b[1;33m(\u001b[0m\u001b[0mlst1\u001b[0m\u001b[1;33m)\u001b[0m\u001b[1;33m.\u001b[0m\u001b[0mintersection\u001b[0m\u001b[1;33m(\u001b[0m\u001b[0mlst2\u001b[0m\u001b[1;33m)\u001b[0m\u001b[1;33m\u001b[0m\u001b[0m\n\u001b[0m",
      "\u001b[1;31mNameError\u001b[0m: name 'lst1' is not defined"
     ]
    }
   ],
   "source": [
    "set(lst1).intersection(lst2)"
   ]
  },
  {
   "cell_type": "code",
   "execution_count": 15,
   "metadata": {},
   "outputs": [
    {
     "data": {
      "text/plain": [
       "{1, 2, 3, 5}"
      ]
     },
     "execution_count": 15,
     "metadata": {},
     "output_type": "execute_result"
    }
   ],
   "source": [
    "set([1,3,3,5,2,3]or[1,2,4])"
   ]
  },
  {
   "cell_type": "code",
   "execution_count": 29,
   "metadata": {},
   "outputs": [
    {
     "data": {
      "text/plain": [
       "{1, 2, 3, 4, 5}"
      ]
     },
     "execution_count": 29,
     "metadata": {},
     "output_type": "execute_result"
    }
   ],
   "source": [
    "set([1,5,2,3]).union([1,2,4])"
   ]
  },
  {
   "cell_type": "code",
   "execution_count": null,
   "metadata": {},
   "outputs": [],
   "source": []
  }
 ],
 "metadata": {
  "kernelspec": {
   "display_name": "Python 3",
   "language": "python",
   "name": "python3"
  },
  "language_info": {
   "codemirror_mode": {
    "name": "ipython",
    "version": 3
   },
   "file_extension": ".py",
   "mimetype": "text/x-python",
   "name": "python",
   "nbconvert_exporter": "python",
   "pygments_lexer": "ipython3",
   "version": "3.6.5"
  }
 },
 "nbformat": 4,
 "nbformat_minor": 4
}
